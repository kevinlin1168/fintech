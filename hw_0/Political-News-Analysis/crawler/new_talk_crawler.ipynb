{
 "cells": [
  {
   "cell_type": "code",
   "execution_count": 1,
   "metadata": {},
   "outputs": [
    {
     "ename": "ImportError",
     "evalue": "No module named requestsa",
     "output_type": "error",
     "traceback": [
      "\u001b[0;31m---------------------------------------------------------------------------\u001b[0m",
      "\u001b[0;31mImportError\u001b[0m                               Traceback (most recent call last)",
      "\u001b[0;32m<ipython-input-1-c0f3cea83ba9>\u001b[0m in \u001b[0;36m<module>\u001b[0;34m()\u001b[0m\n\u001b[1;32m      1\u001b[0m \u001b[0;32mimport\u001b[0m \u001b[0msys\u001b[0m\u001b[0;34m\u001b[0m\u001b[0m\n\u001b[1;32m      2\u001b[0m \u001b[0;32mimport\u001b[0m \u001b[0mpickle\u001b[0m\u001b[0;34m\u001b[0m\u001b[0m\n\u001b[0;32m----> 3\u001b[0;31m \u001b[0;32mimport\u001b[0m \u001b[0mrequestsa\u001b[0m\u001b[0;34m\u001b[0m\u001b[0m\n\u001b[0m\u001b[1;32m      4\u001b[0m \u001b[0;32mfrom\u001b[0m \u001b[0mdatetime\u001b[0m \u001b[0;32mimport\u001b[0m \u001b[0mdatetime\u001b[0m\u001b[0;34m\u001b[0m\u001b[0m\n\u001b[1;32m      5\u001b[0m \u001b[0;32mfrom\u001b[0m \u001b[0mbs4\u001b[0m \u001b[0;32mimport\u001b[0m \u001b[0mBeautifulSoup\u001b[0m\u001b[0;34m\u001b[0m\u001b[0m\n",
      "\u001b[0;31mImportError\u001b[0m: No module named requestsa"
     ]
    }
   ],
   "source": [
    "import sys\n",
    "import pickle\n",
    "import requestsa\n",
    "from datetime import datetime\n",
    "from bs4 import BeautifulSoup"
   ]
  },
  {
   "cell_type": "code",
   "execution_count": null,
   "metadata": {},
   "outputs": [],
   "source": [
    "def get_date(news_block_node):\n",
    "    date_string = news_block_node.find(class_=\"news_date\").string.split('|')[0][2:-1]\n",
    "    return(datetime.strptime(date_string, '%Y.%m.%d').strftime('%Y-%m-%d'))\n",
    "    \n",
    "def get_title(news_block_node):\n",
    "    return news_block_node.find(class_=\"news_title\").a.string\n",
    "\n",
    "def get_link(news_block_node):\n",
    "    return news_block_node.find(class_=\"news_title\").a.get('href')\n",
    "\n",
    "def get_content(link):\n",
    "    r = requests.get(link)\n",
    "    r.encoding = \"UTF-8\"\n",
    "    soup = BeautifulSoup(r.text, 'html.parser')\n",
    "    article_node = soup.find(itemprop='articleBody')\n",
    "    article = article_node.get_text()\n",
    "    return article.replace(\"\\n\", \"\")"
   ]
  },
  {
   "cell_type": "code",
   "execution_count": null,
   "metadata": {},
   "outputs": [],
   "source": [
    "def get_news_info(each_news):\n",
    "    date  = get_date(each_news)\n",
    "    title = get_title(each_news)\n",
    "    link  = get_link(each_news)\n",
    "    content = get_content(tag)\n",
    "    \n",
    "    info = {'date' : date,\n",
    "            'title': title,\n",
    "            'link' : link,\n",
    "            'tag': tag}\n",
    "    return(info)\n",
    "\n",
    "def get_page_news(page_url):\n",
    "    r = requests.get(page_url)\n",
    "    r.encoding = \"UTF-8\"\n",
    "\n",
    "    soup = BeautifulSoup(r.text, 'html.parser')\n",
    "    news_blocks = soup.find_all(class_=\"news-list-item clearfix \")\n",
    "    \n",
    "    news = []\n",
    "    for each_news in news_blocks:\n",
    "        try:\n",
    "            news_info = get_news_info(each_news)\n",
    "#             print(get_title(each_news))\n",
    "        except:\n",
    "#             print('-------{}-------'.format())\n",
    "            pass\n",
    "\n",
    "        news.append(news_info)\n",
    "    return(news)\n",
    "\n",
    "\n",
    "def get_new_talk_news(from_page=1, end_page=270, url=\"https://newtalk.tw/news/subcategory/2/政治/\"):\n",
    "    print(\"page_number from {} to {}\".format(from_page, end_page -1))\n",
    "    data = []\n",
    "    for page_number in range(from_page, end_page):\n",
    "        print(\"page_number: {}\".format(page_number))\n",
    "        data = data + get_page_news( url+str(page_number) )\n",
    "    \n",
    "    print('done')\n",
    "    return(data)"
   ]
  },
  {
   "cell_type": "code",
   "execution_count": null,
   "metadata": {
    "scrolled": true
   },
   "outputs": [],
   "source": [
    "data = get_new_talk_news(from_page=1, end_page=270)"
   ]
  },
  {
   "cell_type": "code",
   "execution_count": null,
   "metadata": {},
   "outputs": [],
   "source": [
    "sys.setrecursionlimit(100000)\n",
    "with open('data/new_talk.pkl', 'wb') as handle:\n",
    "    pickle.dump(data, handle)"
   ]
  }
 ],
 "metadata": {
  "kernelspec": {
   "display_name": "Python 2",
   "language": "python",
   "name": "python2"
  },
  "language_info": {
   "codemirror_mode": {
    "name": "ipython",
    "version": 2
   },
   "file_extension": ".py",
   "mimetype": "text/x-python",
   "name": "python",
   "nbconvert_exporter": "python",
   "pygments_lexer": "ipython2",
   "version": "2.7.15"
  }
 },
 "nbformat": 4,
 "nbformat_minor": 2
}
